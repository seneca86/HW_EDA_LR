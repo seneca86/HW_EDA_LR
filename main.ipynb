{
 "cells": [
  {
   "attachments": {},
   "cell_type": "markdown",
   "metadata": {},
   "source": [
    "## Homework: exploratory data analysis and linear regression\n",
    "\n",
    "### Instructions\n",
    "\n",
    "* You will provide a main.py file; it is critical that the code runs (i.e. if I press the \"Run\" button there should be no error message)\n",
    "\n",
    "* You do not need to write text, just code; please `print` important results (otherwise they are executed but do not get printed)\n",
    "\n",
    "* You may interact with your friends but DO NOT copy code: if I detect errors that have been copy pasted and that are suspiciously similar across different submission the grade will be penalized\n",
    "\n",
    "(1) Import `seaborn`, `pandas`, and `numpy`, plus the following:"
   ]
  },
  {
   "cell_type": "code",
   "execution_count": 1,
   "metadata": {},
   "outputs": [
    {
     "ename": "ModuleNotFoundError",
     "evalue": "No module named 'matplotlib'",
     "output_type": "error",
     "traceback": [
      "\u001b[0;31m---------------------------------------------------------------------------\u001b[0m",
      "\u001b[0;31mModuleNotFoundError\u001b[0m                       Traceback (most recent call last)",
      "Cell \u001b[0;32mIn[1], line 1\u001b[0m\n\u001b[0;32m----> 1\u001b[0m \u001b[39mimport\u001b[39;00m \u001b[39mmatplotlib\u001b[39;00m \u001b[39mas\u001b[39;00m \u001b[39mmpl\u001b[39;00m\n\u001b[1;32m      2\u001b[0m \u001b[39mimport\u001b[39;00m \u001b[39mmatplotlib\u001b[39;00m\u001b[39m.\u001b[39;00m\u001b[39mpyplot\u001b[39;00m \u001b[39mas\u001b[39;00m \u001b[39mplt\u001b[39;00m\n",
      "\u001b[0;31mModuleNotFoundError\u001b[0m: No module named 'matplotlib'"
     ]
    }
   ],
   "source": [
    "import matplotlib as mpl\n",
    "import matplotlib.pyplot as plt"
   ]
  },
  {
   "attachments": {},
   "cell_type": "markdown",
   "metadata": {},
   "source": [
    "\n",
    "\n",
    "(2) From `seaborn`, load the dataset `mpg`, which stands for \"miles per gallon\", with the following command:\n"
   ]
  },
  {
   "attachments": {},
   "cell_type": "markdown",
   "metadata": {},
   "source": [
    "\n",
    "df = sns.load_dataset(\"mpg\")"
   ]
  },
  {
   "cell_type": "markdown",
   "metadata": {},
   "source": [
    "\n",
    "This dataset contains information of a number of vehicles.\n",
    "\n",
    "(3) Check which are the columns of the dataset.\n",
    "\n",
    "(4) Add a column named `l100km` which are the liters that each car consumes per one hundred kilometers; you will start with `mpg` and apply a transformation.\n",
    "\n",
    "Note that one miles is equal to `1.60934` km and one gallon equal to `3.78541` liters. \n",
    "\n",
    "(5) Count how many cars have which number of cylinders by using `value_counts()`.\n",
    "\n",
    "(6) Copy the `LeastSquares` function we defined in class into your code.\n",
    "\n",
    "(7) Remove the rows containing `nans` in columns `l100km` and `horsepower`, which will play the role of `x` and `y` in our linear regression model\n",
    "\n",
    "(8) Calculate the `slope` and the `intercept` of the relationship between power and consumption; print the results\n",
    "\n",
    "(9) Print the data (you do not need to print the results) with `seaborn`; you may used the following code but you will need to fill out the `...`: \n"
   ]
  },
  {
   "cell_type": "code",
   "execution_count": null,
   "metadata": {},
   "outputs": [],
   "source": [
    "from pathlib import Path\n",
    "Path('plots').mkdir(parents=True, exist_ok=True)\n",
    "mpl.rcParams[\"figure.dpi\"] = 300\n",
    "sns.set_theme()\n",
    "scatter1 = sns.relplot(\n",
    "    data=...,\n",
    "    x=...,\n",
    "    y=...,\n",
    "    style=None,\n",
    "    hue=\"cylinders\",\n",
    "    markers=None,\n",
    "    kind=\"scatter\",\n",
    "    col=None,\n",
    ")\n",
    "scatter1.savefig(\"plots/scatter.png\")\n",
    "plt.clf()"
   ]
  },
  {
   "cell_type": "code",
   "execution_count": null,
   "metadata": {},
   "outputs": [],
   "source": []
  }
 ],
 "metadata": {
  "kernelspec": {
   "display_name": "Python 3",
   "language": "python",
   "name": "python3"
  },
  "language_info": {
   "codemirror_mode": {
    "name": "ipython",
    "version": 3
   },
   "file_extension": ".py",
   "mimetype": "text/x-python",
   "name": "python",
   "nbconvert_exporter": "python",
   "pygments_lexer": "ipython3",
   "version": "3.11.1"
  },
  "orig_nbformat": 4,
  "vscode": {
   "interpreter": {
    "hash": "949777d72b0d2535278d3dc13498b2535136f6dfe0678499012e853ee9abcab1"
   }
  }
 },
 "nbformat": 4,
 "nbformat_minor": 2
}
